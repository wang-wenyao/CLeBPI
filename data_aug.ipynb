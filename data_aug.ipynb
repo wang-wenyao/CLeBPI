{
 "cells": [
  {
   "cell_type": "code",
   "execution_count": 19,
   "metadata": {},
   "outputs": [],
   "source": [
    "import random\n",
    "import copy"
   ]
  },
  {
   "cell_type": "code",
   "execution_count": 20,
   "metadata": {},
   "outputs": [],
   "source": [
    "def switch_words(word_list):\n",
    "    \"\"\"\n",
    "        randomly switch the positions of two words in the bug report sequence\n",
    "    \"\"\"\n",
    "    new_word_list = copy.deepcopy(word_list)\n",
    "    target1 = random.sample(word_list, 1)[0]\n",
    "    target2 = random.sample(word_list, 1)[0]\n",
    "    idx1, idx2 = word_list.index(target1), word_list.index(target2)\n",
    "    new_word_list[idx1], new_word_list[idx2] = word_list[idx2], word_list[idx1]\n",
    "    return new_word_list"
   ]
  },
  {
   "cell_type": "code",
   "execution_count": 35,
   "metadata": {},
   "outputs": [],
   "source": [
    "train_data_file = './valid.txt'\n",
    "train_data = []\n",
    "with open(train_data_file, 'r') as fp:\n",
    "    for line in fp.readlines():\n",
    "        train_data.append(line.replace('\\n', ''))"
   ]
  },
  {
   "cell_type": "code",
   "execution_count": 36,
   "metadata": {},
   "outputs": [],
   "source": [
    "new_train_data = []\n",
    "for each in train_data:\n",
    "    new_train_data.append(switch_words(each.split()))"
   ]
  },
  {
   "cell_type": "code",
   "execution_count": 37,
   "metadata": {},
   "outputs": [],
   "source": [
    "new_train_data = [' '.join(each) for each in new_train_data]"
   ]
  },
  {
   "cell_type": "code",
   "execution_count": 38,
   "metadata": {},
   "outputs": [],
   "source": [
    "data = [['sent1', 'sent2']]\n",
    "for i in range(len(train_data)):\n",
    "    data.append([train_data[i], new_train_data[i]])"
   ]
  },
  {
   "cell_type": "code",
   "execution_count": 40,
   "metadata": {},
   "outputs": [],
   "source": [
    "import csv\n",
    "with open('valid_aug.csv', 'w') as fp:\n",
    "    writer = csv.writer(fp)\n",
    "    for each in data:\n",
    "        writer.writerow(each)"
   ]
  },
  {
   "cell_type": "code",
   "execution_count": null,
   "metadata": {},
   "outputs": [],
   "source": []
  }
 ],
 "metadata": {
  "kernelspec": {
   "display_name": "tomas",
   "language": "python",
   "name": "python3"
  },
  "language_info": {
   "codemirror_mode": {
    "name": "ipython",
    "version": 3
   },
   "file_extension": ".py",
   "mimetype": "text/x-python",
   "name": "python",
   "nbconvert_exporter": "python",
   "pygments_lexer": "ipython3",
   "version": "3.9.16"
  },
  "orig_nbformat": 4
 },
 "nbformat": 4,
 "nbformat_minor": 2
}
